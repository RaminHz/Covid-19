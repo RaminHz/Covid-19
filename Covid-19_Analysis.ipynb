{
 "cells": [
  {
   "cell_type": "markdown",
   "metadata": {},
   "source": [
    "# COVID-19 Analysis "
   ]
  },
  {
   "cell_type": "code",
   "execution_count": 1,
   "metadata": {},
   "outputs": [],
   "source": [
    "import pandas as pd\n",
    "from sodapy import Socrata"
   ]
  },
  {
   "cell_type": "code",
   "execution_count": 8,
   "metadata": {},
   "outputs": [
    {
     "name": "stderr",
     "output_type": "stream",
     "text": [
      "WARNING:root:Requests made without an app_token will be subject to strict throttling limits.\n"
     ]
    }
   ],
   "source": [
    "# Unauthenticated client only works with public data sets. Note 'None'\n",
    "# in place of application token, and no username or password:\n",
    "client = Socrata(\"data.cdc.gov\", None)\n",
    "\n",
    "df = pd.DataFrame()\n",
    "i = 0\n",
    "n = 1\n",
    "while n > 0:\n",
    "    i += 500000\n",
    "    results = client.get(\"vbim-akqf\", limit=500000, offset=i-500000)\n",
    "    results_df = pd.DataFrame.from_records(results)\n",
    "    df = df.append(results_df, sort=True)\n",
    "    n = len(results_df)\n"
   ]
  },
  {
   "cell_type": "code",
   "execution_count": 9,
   "metadata": {},
   "outputs": [
    {
     "data": {
      "text/plain": [
       "(3662325, 11)"
      ]
     },
     "execution_count": 9,
     "metadata": {},
     "output_type": "execute_result"
    }
   ],
   "source": [
    "df.shape"
   ]
  },
  {
   "cell_type": "code",
   "execution_count": 10,
   "metadata": {},
   "outputs": [
    {
     "data": {
      "text/html": [
       "<div>\n",
       "<style scoped>\n",
       "    .dataframe tbody tr th:only-of-type {\n",
       "        vertical-align: middle;\n",
       "    }\n",
       "\n",
       "    .dataframe tbody tr th {\n",
       "        vertical-align: top;\n",
       "    }\n",
       "\n",
       "    .dataframe thead th {\n",
       "        text-align: right;\n",
       "    }\n",
       "</style>\n",
       "<table border=\"1\" class=\"dataframe\">\n",
       "  <thead>\n",
       "    <tr style=\"text-align: right;\">\n",
       "      <th></th>\n",
       "      <th>age_group</th>\n",
       "      <th>cdc_report_dt</th>\n",
       "      <th>current_status</th>\n",
       "      <th>death_yn</th>\n",
       "      <th>hosp_yn</th>\n",
       "      <th>icu_yn</th>\n",
       "      <th>medcond_yn</th>\n",
       "      <th>onset_dt</th>\n",
       "      <th>pos_spec_dt</th>\n",
       "      <th>race_ethnicity_combined</th>\n",
       "      <th>sex</th>\n",
       "    </tr>\n",
       "  </thead>\n",
       "  <tbody>\n",
       "    <tr>\n",
       "      <td>0</td>\n",
       "      <td>0 - 9 Years</td>\n",
       "      <td>2020-03-03T00:00:00.000</td>\n",
       "      <td>Laboratory-confirmed case</td>\n",
       "      <td>Missing</td>\n",
       "      <td>Missing</td>\n",
       "      <td>Missing</td>\n",
       "      <td>Missing</td>\n",
       "      <td>NaN</td>\n",
       "      <td>2020-03-03T00:00:00.000</td>\n",
       "      <td>Unknown</td>\n",
       "      <td>Male</td>\n",
       "    </tr>\n",
       "    <tr>\n",
       "      <td>1</td>\n",
       "      <td>0 - 9 Years</td>\n",
       "      <td>2020-03-03T00:00:00.000</td>\n",
       "      <td>Laboratory-confirmed case</td>\n",
       "      <td>Missing</td>\n",
       "      <td>Missing</td>\n",
       "      <td>Missing</td>\n",
       "      <td>Missing</td>\n",
       "      <td>NaN</td>\n",
       "      <td>2020-03-03T00:00:00.000</td>\n",
       "      <td>Unknown</td>\n",
       "      <td>Female</td>\n",
       "    </tr>\n",
       "    <tr>\n",
       "      <td>2</td>\n",
       "      <td>0 - 9 Years</td>\n",
       "      <td>2020-04-07T00:00:00.000</td>\n",
       "      <td>Laboratory-confirmed case</td>\n",
       "      <td>Missing</td>\n",
       "      <td>No</td>\n",
       "      <td>Missing</td>\n",
       "      <td>Missing</td>\n",
       "      <td>2020-03-03T00:00:00.000</td>\n",
       "      <td>2020-03-03T00:00:00.000</td>\n",
       "      <td>Unknown</td>\n",
       "      <td>Unknown</td>\n",
       "    </tr>\n",
       "    <tr>\n",
       "      <td>3</td>\n",
       "      <td>0 - 9 Years</td>\n",
       "      <td>2020-08-04T00:00:00.000</td>\n",
       "      <td>Probable Case</td>\n",
       "      <td>Missing</td>\n",
       "      <td>Missing</td>\n",
       "      <td>Missing</td>\n",
       "      <td>Missing</td>\n",
       "      <td>NaN</td>\n",
       "      <td>2020-08-04T00:00:00.000</td>\n",
       "      <td>Unknown</td>\n",
       "      <td>Male</td>\n",
       "    </tr>\n",
       "    <tr>\n",
       "      <td>4</td>\n",
       "      <td>0 - 9 Years</td>\n",
       "      <td>2020-07-28T00:00:00.000</td>\n",
       "      <td>Laboratory-confirmed case</td>\n",
       "      <td>No</td>\n",
       "      <td>No</td>\n",
       "      <td>No</td>\n",
       "      <td>Missing</td>\n",
       "      <td>2020-07-28T00:00:00.000</td>\n",
       "      <td>2020-08-04T00:00:00.000</td>\n",
       "      <td>Unknown</td>\n",
       "      <td>Male</td>\n",
       "    </tr>\n",
       "  </tbody>\n",
       "</table>\n",
       "</div>"
      ],
      "text/plain": [
       "     age_group            cdc_report_dt             current_status death_yn  \\\n",
       "0  0 - 9 Years  2020-03-03T00:00:00.000  Laboratory-confirmed case  Missing   \n",
       "1  0 - 9 Years  2020-03-03T00:00:00.000  Laboratory-confirmed case  Missing   \n",
       "2  0 - 9 Years  2020-04-07T00:00:00.000  Laboratory-confirmed case  Missing   \n",
       "3  0 - 9 Years  2020-08-04T00:00:00.000              Probable Case  Missing   \n",
       "4  0 - 9 Years  2020-07-28T00:00:00.000  Laboratory-confirmed case       No   \n",
       "\n",
       "   hosp_yn   icu_yn medcond_yn                 onset_dt  \\\n",
       "0  Missing  Missing    Missing                      NaN   \n",
       "1  Missing  Missing    Missing                      NaN   \n",
       "2       No  Missing    Missing  2020-03-03T00:00:00.000   \n",
       "3  Missing  Missing    Missing                      NaN   \n",
       "4       No       No    Missing  2020-07-28T00:00:00.000   \n",
       "\n",
       "               pos_spec_dt race_ethnicity_combined      sex  \n",
       "0  2020-03-03T00:00:00.000                 Unknown     Male  \n",
       "1  2020-03-03T00:00:00.000                 Unknown   Female  \n",
       "2  2020-03-03T00:00:00.000                 Unknown  Unknown  \n",
       "3  2020-08-04T00:00:00.000                 Unknown     Male  \n",
       "4  2020-08-04T00:00:00.000                 Unknown     Male  "
      ]
     },
     "execution_count": 10,
     "metadata": {},
     "output_type": "execute_result"
    }
   ],
   "source": [
    "df.head()"
   ]
  },
  {
   "cell_type": "code",
   "execution_count": 11,
   "metadata": {},
   "outputs": [
    {
     "data": {
      "text/plain": [
       "Missing    2312984\n",
       "Unknown     897276\n",
       "No          405791\n",
       "Yes          46274\n",
       "Name: icu_yn, dtype: int64"
      ]
     },
     "execution_count": 11,
     "metadata": {},
     "output_type": "execute_result"
    }
   ],
   "source": [
    "df['icu_yn'].value_counts()"
   ]
  },
  {
   "cell_type": "code",
   "execution_count": 12,
   "metadata": {},
   "outputs": [
    {
     "data": {
      "text/plain": [
       "Laboratory-confirmed case    3521190\n",
       "Probable Case                 141135\n",
       "Name: current_status, dtype: int64"
      ]
     },
     "execution_count": 12,
     "metadata": {},
     "output_type": "execute_result"
    }
   ],
   "source": [
    "df['current_status'].value_counts()"
   ]
  },
  {
   "cell_type": "code",
   "execution_count": 11,
   "metadata": {},
   "outputs": [
    {
     "data": {
      "text/plain": [
       "No         1644402\n",
       "Missing    1231997\n",
       "Unknown     660056\n",
       "Yes         125870\n",
       "Name: death_yn, dtype: int64"
      ]
     },
     "execution_count": 11,
     "metadata": {},
     "output_type": "execute_result"
    }
   ],
   "source": [
    "df['death_yn'].value_counts()"
   ]
  },
  {
   "cell_type": "code",
   "execution_count": 12,
   "metadata": {},
   "outputs": [
    {
     "data": {
      "text/plain": [
       "No         1525755\n",
       "Missing    1092657\n",
       "Unknown     701522\n",
       "Yes         342391\n",
       "Name: hosp_yn, dtype: int64"
      ]
     },
     "execution_count": 12,
     "metadata": {},
     "output_type": "execute_result"
    }
   ],
   "source": [
    "df['hosp_yn'].value_counts()"
   ]
  },
  {
   "cell_type": "code",
   "execution_count": 13,
   "metadata": {},
   "outputs": [
    {
     "data": {
      "text/plain": [
       "Missing    2350907\n",
       "Unknown     521399\n",
       "Yes         489620\n",
       "No          300399\n",
       "Name: medcond_yn, dtype: int64"
      ]
     },
     "execution_count": 13,
     "metadata": {},
     "output_type": "execute_result"
    }
   ],
   "source": [
    "df['medcond_yn'].value_counts()"
   ]
  },
  {
   "cell_type": "code",
   "execution_count": 14,
   "metadata": {},
   "outputs": [
    {
     "data": {
      "text/plain": [
       "20 - 29 Years    684226\n",
       "30 - 39 Years    622332\n",
       "40 - 49 Years    580660\n",
       "50 - 59 Years    564999\n",
       "60 - 69 Years    396925\n",
       "10 - 19 Years    271652\n",
       "70 - 79 Years    222836\n",
       "80+ Years        206172\n",
       "0 - 9 Years      108383\n",
       "Unknown            4046\n",
       "NA                   94\n",
       "Name: age_group, dtype: int64"
      ]
     },
     "execution_count": 14,
     "metadata": {},
     "output_type": "execute_result"
    }
   ],
   "source": [
    "df['age_group'].value_counts()"
   ]
  },
  {
   "cell_type": "code",
   "execution_count": 20,
   "metadata": {},
   "outputs": [
    {
     "data": {
      "text/plain": [
       "Int64Index([     3,     19,     20,     29,     31,     32,     37,     47,\n",
       "                48,    308,\n",
       "            ...\n",
       "            162091, 162226, 162315, 162316, 162317, 162318, 162320, 162321,\n",
       "            162323, 162324],\n",
       "           dtype='int64', length=141135)"
      ]
     },
     "execution_count": 20,
     "metadata": {},
     "output_type": "execute_result"
    }
   ],
   "source": [
    "indexNames = df[df['current_status'] == 'Probable Case'].index\n",
    "indexNames"
   ]
  },
  {
   "cell_type": "code",
   "execution_count": 22,
   "metadata": {},
   "outputs": [
    {
     "data": {
      "text/plain": [
       "(3521190, 11)"
      ]
     },
     "execution_count": 22,
     "metadata": {},
     "output_type": "execute_result"
    }
   ],
   "source": [
    "# dropping all rows with probable case classifications\n",
    "df_clean = df[df.current_status != 'Probable Case']\n",
    "df_clean.shape"
   ]
  },
  {
   "cell_type": "code",
   "execution_count": null,
   "metadata": {},
   "outputs": [],
   "source": []
  }
 ],
 "metadata": {
  "kernelspec": {
   "display_name": "Python 3",
   "language": "python",
   "name": "python3"
  },
  "language_info": {
   "codemirror_mode": {
    "name": "ipython",
    "version": 3
   },
   "file_extension": ".py",
   "mimetype": "text/x-python",
   "name": "python",
   "nbconvert_exporter": "python",
   "pygments_lexer": "ipython3",
   "version": "3.7.4"
  }
 },
 "nbformat": 4,
 "nbformat_minor": 2
}
