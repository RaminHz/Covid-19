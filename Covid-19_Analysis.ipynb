{
 "cells": [
  {
   "cell_type": "markdown",
   "metadata": {},
   "source": [
    "# COVID-19 Analysis "
   ]
  },
  {
   "cell_type": "code",
   "execution_count": 1,
   "metadata": {},
   "outputs": [],
   "source": [
    "import pandas as pd\n",
    "from sodapy import Socrata"
   ]
  },
  {
   "cell_type": "code",
   "execution_count": 4,
   "metadata": {},
   "outputs": [
    {
     "name": "stderr",
     "output_type": "stream",
     "text": [
      "WARNING:root:Requests made without an app_token will be subject to strict throttling limits.\n"
     ]
    }
   ],
   "source": [
    "# Unauthenticated client only works with public data sets. Note 'None'\n",
    "# in place of application token, and no username or password:\n",
    "client = Socrata(\"data.cdc.gov\", None)\n",
    "\n",
    "df = pd.DataFrame()\n",
    "i = 0\n",
    "n = 1\n",
    "while n > 0:\n",
    "    i += 500000\n",
    "    results = client.get(\"vbim-akqf\", limit=500000, offset=i-500000)\n",
    "    results_df = pd.DataFrame.from_records(results)\n",
    "    df = df.append(results_df)\n",
    "    n = len(results_df)\n"
   ]
  },
  {
   "cell_type": "code",
   "execution_count": 5,
   "metadata": {},
   "outputs": [
    {
     "data": {
      "text/plain": [
       "(3662325, 11)"
      ]
     },
     "execution_count": 5,
     "metadata": {},
     "output_type": "execute_result"
    }
   ],
   "source": [
    "df.shape"
   ]
  },
  {
   "cell_type": "code",
   "execution_count": 8,
   "metadata": {},
   "outputs": [
    {
     "data": {
      "text/html": [
       "<div>\n",
       "<style scoped>\n",
       "    .dataframe tbody tr th:only-of-type {\n",
       "        vertical-align: middle;\n",
       "    }\n",
       "\n",
       "    .dataframe tbody tr th {\n",
       "        vertical-align: top;\n",
       "    }\n",
       "\n",
       "    .dataframe thead th {\n",
       "        text-align: right;\n",
       "    }\n",
       "</style>\n",
       "<table border=\"1\" class=\"dataframe\">\n",
       "  <thead>\n",
       "    <tr style=\"text-align: right;\">\n",
       "      <th></th>\n",
       "      <th>age_group</th>\n",
       "      <th>cdc_report_dt</th>\n",
       "      <th>current_status</th>\n",
       "      <th>death_yn</th>\n",
       "      <th>hosp_yn</th>\n",
       "      <th>icu_yn</th>\n",
       "      <th>medcond_yn</th>\n",
       "      <th>onset_dt</th>\n",
       "      <th>pos_spec_dt</th>\n",
       "      <th>race_ethnicity_combined</th>\n",
       "      <th>sex</th>\n",
       "    </tr>\n",
       "  </thead>\n",
       "  <tbody>\n",
       "    <tr>\n",
       "      <td>0</td>\n",
       "      <td>0 - 9 Years</td>\n",
       "      <td>2020-03-03T00:00:00.000</td>\n",
       "      <td>Laboratory-confirmed case</td>\n",
       "      <td>Missing</td>\n",
       "      <td>Missing</td>\n",
       "      <td>Missing</td>\n",
       "      <td>Missing</td>\n",
       "      <td>NaN</td>\n",
       "      <td>2020-03-03T00:00:00.000</td>\n",
       "      <td>Unknown</td>\n",
       "      <td>Male</td>\n",
       "    </tr>\n",
       "    <tr>\n",
       "      <td>1</td>\n",
       "      <td>0 - 9 Years</td>\n",
       "      <td>2020-03-03T00:00:00.000</td>\n",
       "      <td>Laboratory-confirmed case</td>\n",
       "      <td>Missing</td>\n",
       "      <td>Missing</td>\n",
       "      <td>Missing</td>\n",
       "      <td>Missing</td>\n",
       "      <td>NaN</td>\n",
       "      <td>2020-03-03T00:00:00.000</td>\n",
       "      <td>Unknown</td>\n",
       "      <td>Female</td>\n",
       "    </tr>\n",
       "    <tr>\n",
       "      <td>2</td>\n",
       "      <td>0 - 9 Years</td>\n",
       "      <td>2020-04-07T00:00:00.000</td>\n",
       "      <td>Laboratory-confirmed case</td>\n",
       "      <td>Missing</td>\n",
       "      <td>No</td>\n",
       "      <td>Missing</td>\n",
       "      <td>Missing</td>\n",
       "      <td>2020-03-03T00:00:00.000</td>\n",
       "      <td>2020-03-03T00:00:00.000</td>\n",
       "      <td>Unknown</td>\n",
       "      <td>Unknown</td>\n",
       "    </tr>\n",
       "    <tr>\n",
       "      <td>3</td>\n",
       "      <td>0 - 9 Years</td>\n",
       "      <td>2020-08-04T00:00:00.000</td>\n",
       "      <td>Probable Case</td>\n",
       "      <td>Missing</td>\n",
       "      <td>Missing</td>\n",
       "      <td>Missing</td>\n",
       "      <td>Missing</td>\n",
       "      <td>NaN</td>\n",
       "      <td>2020-08-04T00:00:00.000</td>\n",
       "      <td>Unknown</td>\n",
       "      <td>Male</td>\n",
       "    </tr>\n",
       "    <tr>\n",
       "      <td>4</td>\n",
       "      <td>0 - 9 Years</td>\n",
       "      <td>2020-07-28T00:00:00.000</td>\n",
       "      <td>Laboratory-confirmed case</td>\n",
       "      <td>No</td>\n",
       "      <td>No</td>\n",
       "      <td>No</td>\n",
       "      <td>Missing</td>\n",
       "      <td>2020-07-28T00:00:00.000</td>\n",
       "      <td>2020-08-04T00:00:00.000</td>\n",
       "      <td>Unknown</td>\n",
       "      <td>Male</td>\n",
       "    </tr>\n",
       "  </tbody>\n",
       "</table>\n",
       "</div>"
      ],
      "text/plain": [
       "     age_group            cdc_report_dt             current_status death_yn  \\\n",
       "0  0 - 9 Years  2020-03-03T00:00:00.000  Laboratory-confirmed case  Missing   \n",
       "1  0 - 9 Years  2020-03-03T00:00:00.000  Laboratory-confirmed case  Missing   \n",
       "2  0 - 9 Years  2020-04-07T00:00:00.000  Laboratory-confirmed case  Missing   \n",
       "3  0 - 9 Years  2020-08-04T00:00:00.000              Probable Case  Missing   \n",
       "4  0 - 9 Years  2020-07-28T00:00:00.000  Laboratory-confirmed case       No   \n",
       "\n",
       "   hosp_yn   icu_yn medcond_yn                 onset_dt  \\\n",
       "0  Missing  Missing    Missing                      NaN   \n",
       "1  Missing  Missing    Missing                      NaN   \n",
       "2       No  Missing    Missing  2020-03-03T00:00:00.000   \n",
       "3  Missing  Missing    Missing                      NaN   \n",
       "4       No       No    Missing  2020-07-28T00:00:00.000   \n",
       "\n",
       "               pos_spec_dt race_ethnicity_combined      sex  \n",
       "0  2020-03-03T00:00:00.000                 Unknown     Male  \n",
       "1  2020-03-03T00:00:00.000                 Unknown   Female  \n",
       "2  2020-03-03T00:00:00.000                 Unknown  Unknown  \n",
       "3  2020-08-04T00:00:00.000                 Unknown     Male  \n",
       "4  2020-08-04T00:00:00.000                 Unknown     Male  "
      ]
     },
     "execution_count": 8,
     "metadata": {},
     "output_type": "execute_result"
    }
   ],
   "source": [
    "df.head()"
   ]
  }
 ],
 "metadata": {
  "kernelspec": {
   "display_name": "Python 3",
   "language": "python",
   "name": "python3"
  },
  "language_info": {
   "codemirror_mode": {
    "name": "ipython",
    "version": 3
   },
   "file_extension": ".py",
   "mimetype": "text/x-python",
   "name": "python",
   "nbconvert_exporter": "python",
   "pygments_lexer": "ipython3",
   "version": "3.7.4"
  }
 },
 "nbformat": 4,
 "nbformat_minor": 2
}
